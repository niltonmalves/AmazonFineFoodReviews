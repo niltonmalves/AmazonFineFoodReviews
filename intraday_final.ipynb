{
  "nbformat": 4,
  "nbformat_minor": 0,
  "metadata": {
    "kernelspec": {
      "display_name": "Python 3",
      "language": "python",
      "name": "python3"
    },
    "language_info": {
      "codemirror_mode": {
        "name": "ipython",
        "version": 3
      },
      "file_extension": ".py",
      "mimetype": "text/x-python",
      "name": "python",
      "nbconvert_exporter": "python",
      "pygments_lexer": "ipython3",
      "version": "3.7.3"
    },
    "colab": {
      "name": "intraday_final.ipynb",
      "provenance": [],
      "collapsed_sections": [],
      "include_colab_link": true
    }
  },
  "cells": [
    {
      "cell_type": "markdown",
      "metadata": {
        "id": "view-in-github",
        "colab_type": "text"
      },
      "source": [
        "<a href=\"https://colab.research.google.com/github/niltonmalves/AmazonFineFoodReviews/blob/master/intraday_final.ipynb\" target=\"_parent\"><img src=\"https://colab.research.google.com/assets/colab-badge.svg\" alt=\"Open In Colab\"/></a>"
      ]
    },
    {
      "cell_type": "code",
      "metadata": {
        "id": "OBWWgVOxNjPz",
        "colab_type": "code",
        "colab": {}
      },
      "source": [
        "import numpy as np\n",
        "import matplotlib.pyplot as plt\n",
        "import pandas as pd\n",
        "import os"
      ],
      "execution_count": 0,
      "outputs": []
    },
    {
      "cell_type": "code",
      "metadata": {
        "id": "hqLG5-RjNjP-",
        "colab_type": "code",
        "colab": {}
      },
      "source": [
        "from pandas.plotting import register_matplotlib_converters\n",
        "register_matplotlib_converters()"
      ],
      "execution_count": 0,
      "outputs": []
    },
    {
      "cell_type": "code",
      "metadata": {
        "id": "dPwE81CINjQF",
        "colab_type": "code",
        "colab": {},
        "outputId": "355b67da-5c63-4b12-b2f3-5d5c85811435"
      },
      "source": [
        "path_trade_itsa4='https://raw.githubusercontent.com/niltonmalves/stock/master/itsa4_trade.csv'\n",
        "pd.read_csv(path_bid_itsa4, sep=';').tail(3)"
      ],
      "execution_count": 0,
      "outputs": [
        {
          "output_type": "execute_result",
          "data": {
            "text/html": [
              "<div>\n",
              "<style scoped>\n",
              "    .dataframe tbody tr th:only-of-type {\n",
              "        vertical-align: middle;\n",
              "    }\n",
              "\n",
              "    .dataframe tbody tr th {\n",
              "        vertical-align: top;\n",
              "    }\n",
              "\n",
              "    .dataframe thead th {\n",
              "        text-align: right;\n",
              "    }\n",
              "</style>\n",
              "<table border=\"1\" class=\"dataframe\">\n",
              "  <thead>\n",
              "    <tr style=\"text-align: right;\">\n",
              "      <th></th>\n",
              "      <th>Dates</th>\n",
              "      <th>Open</th>\n",
              "      <th>Close</th>\n",
              "      <th>High</th>\n",
              "      <th>Low</th>\n",
              "      <th>Value</th>\n",
              "      <th>Volume</th>\n",
              "      <th>Number Ticks</th>\n",
              "    </tr>\n",
              "  </thead>\n",
              "  <tbody>\n",
              "    <tr>\n",
              "      <th>57151</th>\n",
              "      <td>15/05/2020 17:57</td>\n",
              "      <td>8.17</td>\n",
              "      <td>8.16</td>\n",
              "      <td>8.18</td>\n",
              "      <td>8.16</td>\n",
              "      <td>415584</td>\n",
              "      <td>50916</td>\n",
              "      <td>13</td>\n",
              "    </tr>\n",
              "    <tr>\n",
              "      <th>57152</th>\n",
              "      <td>15/05/2020 17:58</td>\n",
              "      <td>8.17</td>\n",
              "      <td>8.17</td>\n",
              "      <td>8.18</td>\n",
              "      <td>8.16</td>\n",
              "      <td>823440</td>\n",
              "      <td>100883</td>\n",
              "      <td>19</td>\n",
              "    </tr>\n",
              "    <tr>\n",
              "      <th>57153</th>\n",
              "      <td>15/05/2020 17:59</td>\n",
              "      <td>8.17</td>\n",
              "      <td>8.17</td>\n",
              "      <td>8.17</td>\n",
              "      <td>8.17</td>\n",
              "      <td>471989</td>\n",
              "      <td>57771</td>\n",
              "      <td>15</td>\n",
              "    </tr>\n",
              "  </tbody>\n",
              "</table>\n",
              "</div>"
            ],
            "text/plain": [
              "                  Dates  Open  Close  High   Low   Value  Volume  Number Ticks\n",
              "57151  15/05/2020 17:57  8.17   8.16  8.18  8.16  415584   50916            13\n",
              "57152  15/05/2020 17:58  8.17   8.17  8.18  8.16  823440  100883            19\n",
              "57153  15/05/2020 17:59  8.17   8.17  8.17  8.17  471989   57771            15"
            ]
          },
          "metadata": {
            "tags": []
          },
          "execution_count": 36
        }
      ]
    },
    {
      "cell_type": "code",
      "metadata": {
        "id": "kJVGHb-QNjQR",
        "colab_type": "code",
        "colab": {},
        "outputId": "0ade9300-3127-4399-ba65-41623bc2e84f"
      },
      "source": [
        "data_trade_itsa4=pd.read_csv(path_trade_itsa4, sep=';').iloc[:,0].values\n",
        "volume_trade_total_itsa4=pd.read_csv(path_trade_itsa4, sep=';').iloc[:,6].values.astype('float') #volume\n",
        "valor_trade_total_itsa4=pd.read_csv(path_trade_itsa4, sep=';').iloc[:,5].values.astype('float') #value\n",
        "media_trade_itsa4=valor_trade_total_itsa4/volume_trade_total_itsa4\n",
        "media_trade_itsa4[0:2]"
      ],
      "execution_count": 0,
      "outputs": [
        {
          "output_type": "execute_result",
          "data": {
            "text/plain": [
              "array([13.73731066, 13.76205426])"
            ]
          },
          "metadata": {
            "tags": []
          },
          "execution_count": 37
        }
      ]
    },
    {
      "cell_type": "code",
      "metadata": {
        "id": "621kwRXMNjQb",
        "colab_type": "code",
        "colab": {},
        "outputId": "70d4588b-3916-431c-bea3-141dd174a1ca"
      },
      "source": [
        "dftrade=pd.DataFrame({'md_trade':media_trade_itsa4,'vlr_trade':valor_trade_total_itsa4},index=data_trade_itsa4)\n",
        "dftrade.tail(3)"
      ],
      "execution_count": 0,
      "outputs": [
        {
          "output_type": "execute_result",
          "data": {
            "text/html": [
              "<div>\n",
              "<style scoped>\n",
              "    .dataframe tbody tr th:only-of-type {\n",
              "        vertical-align: middle;\n",
              "    }\n",
              "\n",
              "    .dataframe tbody tr th {\n",
              "        vertical-align: top;\n",
              "    }\n",
              "\n",
              "    .dataframe thead th {\n",
              "        text-align: right;\n",
              "    }\n",
              "</style>\n",
              "<table border=\"1\" class=\"dataframe\">\n",
              "  <thead>\n",
              "    <tr style=\"text-align: right;\">\n",
              "      <th></th>\n",
              "      <th>md_trade</th>\n",
              "      <th>vlr_trade</th>\n",
              "    </tr>\n",
              "  </thead>\n",
              "  <tbody>\n",
              "    <tr>\n",
              "      <th>15/05/2020 16:53</th>\n",
              "      <td>8.193766</td>\n",
              "      <td>441644.0</td>\n",
              "    </tr>\n",
              "    <tr>\n",
              "      <th>15/05/2020 16:54</th>\n",
              "      <td>8.181014</td>\n",
              "      <td>2461667.0</td>\n",
              "    </tr>\n",
              "    <tr>\n",
              "      <th>15/05/2020 17:08</th>\n",
              "      <td>8.140000</td>\n",
              "      <td>28528258.0</td>\n",
              "    </tr>\n",
              "  </tbody>\n",
              "</table>\n",
              "</div>"
            ],
            "text/plain": [
              "                  md_trade   vlr_trade\n",
              "15/05/2020 16:53  8.193766    441644.0\n",
              "15/05/2020 16:54  8.181014   2461667.0\n",
              "15/05/2020 17:08  8.140000  28528258.0"
            ]
          },
          "metadata": {
            "tags": []
          },
          "execution_count": 38
        }
      ]
    },
    {
      "cell_type": "code",
      "metadata": {
        "id": "kjR41m7lNjQi",
        "colab_type": "code",
        "colab": {}
      },
      "source": [
        ""
      ],
      "execution_count": 0,
      "outputs": []
    },
    {
      "cell_type": "code",
      "metadata": {
        "scrolled": true,
        "id": "aclcGg_ANjQq",
        "colab_type": "code",
        "colab": {},
        "outputId": "1abe3f07-d3b5-4e6c-8828-584b40d053fb"
      },
      "source": [
        "## bid intraday itsa4\n",
        "path_bid_itsa4='https://raw.githubusercontent.com/niltonmalves/stock/master/bid_itsa4_intraday.csv'\n",
        "pd.read_csv(path_bid_itsa4, sep=';').tail(3)"
      ],
      "execution_count": 0,
      "outputs": [
        {
          "output_type": "execute_result",
          "data": {
            "text/html": [
              "<div>\n",
              "<style scoped>\n",
              "    .dataframe tbody tr th:only-of-type {\n",
              "        vertical-align: middle;\n",
              "    }\n",
              "\n",
              "    .dataframe tbody tr th {\n",
              "        vertical-align: top;\n",
              "    }\n",
              "\n",
              "    .dataframe thead th {\n",
              "        text-align: right;\n",
              "    }\n",
              "</style>\n",
              "<table border=\"1\" class=\"dataframe\">\n",
              "  <thead>\n",
              "    <tr style=\"text-align: right;\">\n",
              "      <th></th>\n",
              "      <th>Dates</th>\n",
              "      <th>Open</th>\n",
              "      <th>Close</th>\n",
              "      <th>High</th>\n",
              "      <th>Low</th>\n",
              "      <th>Value</th>\n",
              "      <th>Volume</th>\n",
              "      <th>Number Ticks</th>\n",
              "    </tr>\n",
              "  </thead>\n",
              "  <tbody>\n",
              "    <tr>\n",
              "      <th>57151</th>\n",
              "      <td>15/05/2020 17:57</td>\n",
              "      <td>8.17</td>\n",
              "      <td>8.16</td>\n",
              "      <td>8.18</td>\n",
              "      <td>8.16</td>\n",
              "      <td>415584</td>\n",
              "      <td>50916</td>\n",
              "      <td>13</td>\n",
              "    </tr>\n",
              "    <tr>\n",
              "      <th>57152</th>\n",
              "      <td>15/05/2020 17:58</td>\n",
              "      <td>8.17</td>\n",
              "      <td>8.17</td>\n",
              "      <td>8.18</td>\n",
              "      <td>8.16</td>\n",
              "      <td>823440</td>\n",
              "      <td>100883</td>\n",
              "      <td>19</td>\n",
              "    </tr>\n",
              "    <tr>\n",
              "      <th>57153</th>\n",
              "      <td>15/05/2020 17:59</td>\n",
              "      <td>8.17</td>\n",
              "      <td>8.17</td>\n",
              "      <td>8.17</td>\n",
              "      <td>8.17</td>\n",
              "      <td>471989</td>\n",
              "      <td>57771</td>\n",
              "      <td>15</td>\n",
              "    </tr>\n",
              "  </tbody>\n",
              "</table>\n",
              "</div>"
            ],
            "text/plain": [
              "                  Dates  Open  Close  High   Low   Value  Volume  Number Ticks\n",
              "57151  15/05/2020 17:57  8.17   8.16  8.18  8.16  415584   50916            13\n",
              "57152  15/05/2020 17:58  8.17   8.17  8.18  8.16  823440  100883            19\n",
              "57153  15/05/2020 17:59  8.17   8.17  8.17  8.17  471989   57771            15"
            ]
          },
          "metadata": {
            "tags": []
          },
          "execution_count": 3
        }
      ]
    },
    {
      "cell_type": "code",
      "metadata": {
        "id": "ahx7tlH8NjQz",
        "colab_type": "code",
        "colab": {},
        "outputId": "fb568f1f-cc1a-4ab8-a945-263d87179b3f"
      },
      "source": [
        "data_bid_itsa4=pd.read_csv(path_bid_itsa4, sep=';').iloc[:,0].values\n",
        "volume_bid_total_itsa4=pd.read_csv(path_bid_itsa4, sep=';').iloc[:,6].values.astype('float') #volume\n",
        "valor_bid_total_itsa4=pd.read_csv(path_bid_itsa4, sep=';').iloc[:,5].values.astype('float') #value\n",
        "media_bid_itsa4=valor_bid_total_itsa4/volume_bid_total_itsa4\n",
        "media_bid_itsa4[0:2]"
      ],
      "execution_count": 0,
      "outputs": [
        {
          "output_type": "execute_result",
          "data": {
            "text/plain": [
              "array([13.59972678, 14.4596915 ])"
            ]
          },
          "metadata": {
            "tags": []
          },
          "execution_count": 4
        }
      ]
    },
    {
      "cell_type": "code",
      "metadata": {
        "id": "R0PlotQ3NjQ5",
        "colab_type": "code",
        "colab": {},
        "outputId": "f7821f3e-47fe-4831-d3af-6eefa0c8613f"
      },
      "source": [
        "dfbid=pd.DataFrame({'md_bid':media_bid_itsa4,'vlr_bid':valor_bid_total_itsa4},index=data_bid_itsa4)\n",
        "dfbid.tail(3)"
      ],
      "execution_count": 0,
      "outputs": [
        {
          "output_type": "execute_result",
          "data": {
            "text/html": [
              "<div>\n",
              "<style scoped>\n",
              "    .dataframe tbody tr th:only-of-type {\n",
              "        vertical-align: middle;\n",
              "    }\n",
              "\n",
              "    .dataframe tbody tr th {\n",
              "        vertical-align: top;\n",
              "    }\n",
              "\n",
              "    .dataframe thead th {\n",
              "        text-align: right;\n",
              "    }\n",
              "</style>\n",
              "<table border=\"1\" class=\"dataframe\">\n",
              "  <thead>\n",
              "    <tr style=\"text-align: right;\">\n",
              "      <th></th>\n",
              "      <th>md_bid</th>\n",
              "      <th>vlr_bid</th>\n",
              "    </tr>\n",
              "  </thead>\n",
              "  <tbody>\n",
              "    <tr>\n",
              "      <th>15/05/2020 17:57</th>\n",
              "      <td>8.162149</td>\n",
              "      <td>415584.0</td>\n",
              "    </tr>\n",
              "    <tr>\n",
              "      <th>15/05/2020 17:58</th>\n",
              "      <td>8.162327</td>\n",
              "      <td>823440.0</td>\n",
              "    </tr>\n",
              "    <tr>\n",
              "      <th>15/05/2020 17:59</th>\n",
              "      <td>8.169999</td>\n",
              "      <td>471989.0</td>\n",
              "    </tr>\n",
              "  </tbody>\n",
              "</table>\n",
              "</div>"
            ],
            "text/plain": [
              "                    md_bid   vlr_bid\n",
              "15/05/2020 17:57  8.162149  415584.0\n",
              "15/05/2020 17:58  8.162327  823440.0\n",
              "15/05/2020 17:59  8.169999  471989.0"
            ]
          },
          "metadata": {
            "tags": []
          },
          "execution_count": 5
        }
      ]
    },
    {
      "cell_type": "code",
      "metadata": {
        "id": "XJ1QC8L7NjRA",
        "colab_type": "code",
        "colab": {},
        "outputId": "2e788503-47d5-47a9-a31a-465b2c6c8990"
      },
      "source": [
        "dfbid.size"
      ],
      "execution_count": 0,
      "outputs": [
        {
          "output_type": "execute_result",
          "data": {
            "text/plain": [
              "114308"
            ]
          },
          "metadata": {
            "tags": []
          },
          "execution_count": 6
        }
      ]
    },
    {
      "cell_type": "code",
      "metadata": {
        "id": "Xk2hG1fuNjRG",
        "colab_type": "code",
        "colab": {},
        "outputId": "0ecdfa34-e909-4f40-e2c3-bc4e1b2259a5"
      },
      "source": [
        "## ask intraday itsa4\n",
        "path_ask_itsa4='https://raw.githubusercontent.com/niltonmalves/stock/master/ask_itsa4_intraday.csv'\n",
        "\n",
        "pd.read_csv(path_ask_itsa4, sep=';').tail(3)"
      ],
      "execution_count": 0,
      "outputs": [
        {
          "output_type": "execute_result",
          "data": {
            "text/html": [
              "<div>\n",
              "<style scoped>\n",
              "    .dataframe tbody tr th:only-of-type {\n",
              "        vertical-align: middle;\n",
              "    }\n",
              "\n",
              "    .dataframe tbody tr th {\n",
              "        vertical-align: top;\n",
              "    }\n",
              "\n",
              "    .dataframe thead th {\n",
              "        text-align: right;\n",
              "    }\n",
              "</style>\n",
              "<table border=\"1\" class=\"dataframe\">\n",
              "  <thead>\n",
              "    <tr style=\"text-align: right;\">\n",
              "      <th></th>\n",
              "      <th>Dates</th>\n",
              "      <th>Open</th>\n",
              "      <th>Close</th>\n",
              "      <th>High</th>\n",
              "      <th>Low</th>\n",
              "      <th>Value</th>\n",
              "      <th>Volume</th>\n",
              "      <th>Number Ticks</th>\n",
              "    </tr>\n",
              "  </thead>\n",
              "  <tbody>\n",
              "    <tr>\n",
              "      <th>57214</th>\n",
              "      <td>15/05/2020 17:57</td>\n",
              "      <td>8.18</td>\n",
              "      <td>8.18</td>\n",
              "      <td>8.19</td>\n",
              "      <td>8.17</td>\n",
              "      <td>1786872</td>\n",
              "      <td>218448</td>\n",
              "      <td>32</td>\n",
              "    </tr>\n",
              "    <tr>\n",
              "      <th>57215</th>\n",
              "      <td>15/05/2020 17:58</td>\n",
              "      <td>8.17</td>\n",
              "      <td>8.18</td>\n",
              "      <td>8.19</td>\n",
              "      <td>8.17</td>\n",
              "      <td>1146527</td>\n",
              "      <td>140178</td>\n",
              "      <td>25</td>\n",
              "    </tr>\n",
              "    <tr>\n",
              "      <th>57216</th>\n",
              "      <td>15/05/2020 17:59</td>\n",
              "      <td>8.18</td>\n",
              "      <td>8.18</td>\n",
              "      <td>8.19</td>\n",
              "      <td>8.18</td>\n",
              "      <td>2707658</td>\n",
              "      <td>331009</td>\n",
              "      <td>24</td>\n",
              "    </tr>\n",
              "  </tbody>\n",
              "</table>\n",
              "</div>"
            ],
            "text/plain": [
              "                  Dates  Open  Close  High   Low    Value  Volume  \\\n",
              "57214  15/05/2020 17:57  8.18   8.18  8.19  8.17  1786872  218448   \n",
              "57215  15/05/2020 17:58  8.17   8.18  8.19  8.17  1146527  140178   \n",
              "57216  15/05/2020 17:59  8.18   8.18  8.19  8.18  2707658  331009   \n",
              "\n",
              "       Number Ticks  \n",
              "57214            32  \n",
              "57215            25  \n",
              "57216            24  "
            ]
          },
          "metadata": {
            "tags": []
          },
          "execution_count": 7
        }
      ]
    },
    {
      "cell_type": "code",
      "metadata": {
        "id": "ZeIak-W4NjRM",
        "colab_type": "code",
        "colab": {},
        "outputId": "a39ebae0-6574-4185-facd-71616bce785f"
      },
      "source": [
        "data_ask_itsa4=pd.read_csv(path_ask_itsa4, sep=';').iloc[:,0].values\n",
        "volume_ask_total_itsa4=pd.read_csv(path_ask_itsa4, sep=';').iloc[:,6].values.astype('float') #volume\n",
        "valor_ask_total_itsa4=pd.read_csv(path_ask_itsa4, sep=';').iloc[:,5].values.astype('float') #value\n",
        "media_ask_itsa4=valor_ask_total_itsa4/volume_ask_total_itsa4\n",
        "media_ask_itsa4[0:2]"
      ],
      "execution_count": 0,
      "outputs": [
        {
          "output_type": "execute_result",
          "data": {
            "text/plain": [
              "array([13.67277487, 13.59988656])"
            ]
          },
          "metadata": {
            "tags": []
          },
          "execution_count": 8
        }
      ]
    },
    {
      "cell_type": "code",
      "metadata": {
        "id": "5g2VNZXONjRS",
        "colab_type": "code",
        "colab": {},
        "outputId": "580207f0-dfcf-497e-fb25-96141af0db33"
      },
      "source": [
        "dfask=pd.DataFrame({'md_ask':media_ask_itsa4,'vlr_ask':valor_ask_total_itsa4},index=data_ask_itsa4)\n",
        "dfask.tail(3)"
      ],
      "execution_count": 0,
      "outputs": [
        {
          "output_type": "execute_result",
          "data": {
            "text/html": [
              "<div>\n",
              "<style scoped>\n",
              "    .dataframe tbody tr th:only-of-type {\n",
              "        vertical-align: middle;\n",
              "    }\n",
              "\n",
              "    .dataframe tbody tr th {\n",
              "        vertical-align: top;\n",
              "    }\n",
              "\n",
              "    .dataframe thead th {\n",
              "        text-align: right;\n",
              "    }\n",
              "</style>\n",
              "<table border=\"1\" class=\"dataframe\">\n",
              "  <thead>\n",
              "    <tr style=\"text-align: right;\">\n",
              "      <th></th>\n",
              "      <th>md_ask</th>\n",
              "      <th>vlr_ask</th>\n",
              "    </tr>\n",
              "  </thead>\n",
              "  <tbody>\n",
              "    <tr>\n",
              "      <th>15/05/2020 17:57</th>\n",
              "      <td>8.179851</td>\n",
              "      <td>1786872.0</td>\n",
              "    </tr>\n",
              "    <tr>\n",
              "      <th>15/05/2020 17:58</th>\n",
              "      <td>8.179079</td>\n",
              "      <td>1146527.0</td>\n",
              "    </tr>\n",
              "    <tr>\n",
              "      <th>15/05/2020 17:59</th>\n",
              "      <td>8.180013</td>\n",
              "      <td>2707658.0</td>\n",
              "    </tr>\n",
              "  </tbody>\n",
              "</table>\n",
              "</div>"
            ],
            "text/plain": [
              "                    md_ask    vlr_ask\n",
              "15/05/2020 17:57  8.179851  1786872.0\n",
              "15/05/2020 17:58  8.179079  1146527.0\n",
              "15/05/2020 17:59  8.180013  2707658.0"
            ]
          },
          "metadata": {
            "tags": []
          },
          "execution_count": 9
        }
      ]
    },
    {
      "cell_type": "code",
      "metadata": {
        "id": "X9HUHv-2NjRY",
        "colab_type": "code",
        "colab": {}
      },
      "source": [
        "dfask.index=pd.to_datetime(dfask.index)\n",
        "dfbid.index=pd.to_datetime(dfbid.index)"
      ],
      "execution_count": 0,
      "outputs": []
    },
    {
      "cell_type": "code",
      "metadata": {
        "id": "2-CvuAWSNjRe",
        "colab_type": "code",
        "colab": {},
        "outputId": "81544946-1e04-4714-a124-2541e5157c69"
      },
      "source": [
        "pdmerge=pd.merge(dfbid,dfask, how='inner', on=None, left_on=None, right_on=None,\n",
        "         left_index=True, right_index=True, sort=False,\n",
        "         copy=True, indicator=False,\n",
        "         validate=None) #suffixes=('_x', '_y'), \n",
        "\n",
        "pdmerge.head()"
      ],
      "execution_count": 0,
      "outputs": [
        {
          "output_type": "execute_result",
          "data": {
            "text/html": [
              "<div>\n",
              "<style scoped>\n",
              "    .dataframe tbody tr th:only-of-type {\n",
              "        vertical-align: middle;\n",
              "    }\n",
              "\n",
              "    .dataframe tbody tr th {\n",
              "        vertical-align: top;\n",
              "    }\n",
              "\n",
              "    .dataframe thead th {\n",
              "        text-align: right;\n",
              "    }\n",
              "</style>\n",
              "<table border=\"1\" class=\"dataframe\">\n",
              "  <thead>\n",
              "    <tr style=\"text-align: right;\">\n",
              "      <th></th>\n",
              "      <th>md_bid</th>\n",
              "      <th>vlr_bid</th>\n",
              "      <th>md_ask</th>\n",
              "      <th>vlr_ask</th>\n",
              "    </tr>\n",
              "  </thead>\n",
              "  <tbody>\n",
              "    <tr>\n",
              "      <th>2019-11-18 06:08:00</th>\n",
              "      <td>13.599727</td>\n",
              "      <td>19910.0</td>\n",
              "      <td>13.672775</td>\n",
              "      <td>5223.0</td>\n",
              "    </tr>\n",
              "    <tr>\n",
              "      <th>2019-11-18 09:45:00</th>\n",
              "      <td>14.459692</td>\n",
              "      <td>99367.0</td>\n",
              "      <td>13.599887</td>\n",
              "      <td>119883.0</td>\n",
              "    </tr>\n",
              "    <tr>\n",
              "      <th>2019-11-18 09:59:00</th>\n",
              "      <td>0.043734</td>\n",
              "      <td>1189.0</td>\n",
              "      <td>13.673469</td>\n",
              "      <td>1340.0</td>\n",
              "    </tr>\n",
              "    <tr>\n",
              "      <th>2019-11-18 10:00:00</th>\n",
              "      <td>1.387739</td>\n",
              "      <td>12201.0</td>\n",
              "      <td>13.694545</td>\n",
              "      <td>3766.0</td>\n",
              "    </tr>\n",
              "    <tr>\n",
              "      <th>2019-11-18 10:01:00</th>\n",
              "      <td>0.195388</td>\n",
              "      <td>3330.0</td>\n",
              "      <td>13.750000</td>\n",
              "      <td>7150.0</td>\n",
              "    </tr>\n",
              "  </tbody>\n",
              "</table>\n",
              "</div>"
            ],
            "text/plain": [
              "                        md_bid  vlr_bid     md_ask   vlr_ask\n",
              "2019-11-18 06:08:00  13.599727  19910.0  13.672775    5223.0\n",
              "2019-11-18 09:45:00  14.459692  99367.0  13.599887  119883.0\n",
              "2019-11-18 09:59:00   0.043734   1189.0  13.673469    1340.0\n",
              "2019-11-18 10:00:00   1.387739  12201.0  13.694545    3766.0\n",
              "2019-11-18 10:01:00   0.195388   3330.0  13.750000    7150.0"
            ]
          },
          "metadata": {
            "tags": []
          },
          "execution_count": 11
        }
      ]
    },
    {
      "cell_type": "code",
      "metadata": {
        "id": "yFSQBoJ2NjRk",
        "colab_type": "code",
        "colab": {},
        "outputId": "4ee20e88-634c-4f62-b18c-d42d7f3c07cd"
      },
      "source": [
        "pdmerge.columns"
      ],
      "execution_count": 0,
      "outputs": [
        {
          "output_type": "execute_result",
          "data": {
            "text/plain": [
              "Index(['md_bid', 'vlr_bid', 'md_ask', 'vlr_ask'], dtype='object')"
            ]
          },
          "metadata": {
            "tags": []
          },
          "execution_count": 12
        }
      ]
    },
    {
      "cell_type": "code",
      "metadata": {
        "id": "v9BARl54NjRt",
        "colab_type": "code",
        "colab": {},
        "outputId": "7aaf590b-0d06-48de-a0bf-fad50de5adf0"
      },
      "source": [
        "pdmerge=pd.merge(pdmerge,dftrade, how='inner', on=None, left_on=None, right_on=None,\n",
        "         left_index=True, right_index=True, sort=False,\n",
        "         copy=True, indicator=False,\n",
        "         validate=None) #suf\n",
        "pdmerge.head()"
      ],
      "execution_count": 0,
      "outputs": [
        {
          "output_type": "execute_result",
          "data": {
            "text/html": [
              "<div>\n",
              "<style scoped>\n",
              "    .dataframe tbody tr th:only-of-type {\n",
              "        vertical-align: middle;\n",
              "    }\n",
              "\n",
              "    .dataframe tbody tr th {\n",
              "        vertical-align: top;\n",
              "    }\n",
              "\n",
              "    .dataframe thead th {\n",
              "        text-align: right;\n",
              "    }\n",
              "</style>\n",
              "<table border=\"1\" class=\"dataframe\">\n",
              "  <thead>\n",
              "    <tr style=\"text-align: right;\">\n",
              "      <th></th>\n",
              "      <th>md_bid</th>\n",
              "      <th>vlr_bid</th>\n",
              "      <th>md_ask</th>\n",
              "      <th>vlr_ask</th>\n",
              "      <th>md_trade</th>\n",
              "      <th>vlr_trade</th>\n",
              "    </tr>\n",
              "  </thead>\n",
              "  <tbody>\n",
              "    <tr>\n",
              "      <th>2019-11-18 10:02:00</th>\n",
              "      <td>13.732724</td>\n",
              "      <td>1858834.0</td>\n",
              "      <td>13.750432</td>\n",
              "      <td>5466938.0</td>\n",
              "      <td>13.737311</td>\n",
              "      <td>888804.0</td>\n",
              "    </tr>\n",
              "    <tr>\n",
              "      <th>2019-11-18 10:03:00</th>\n",
              "      <td>13.752492</td>\n",
              "      <td>5342458.0</td>\n",
              "      <td>13.765032</td>\n",
              "      <td>5638749.0</td>\n",
              "      <td>13.762054</td>\n",
              "      <td>355061.0</td>\n",
              "    </tr>\n",
              "    <tr>\n",
              "      <th>2019-11-18 10:04:00</th>\n",
              "      <td>13.749413</td>\n",
              "      <td>4434392.0</td>\n",
              "      <td>13.761956</td>\n",
              "      <td>5356745.0</td>\n",
              "      <td>13.755000</td>\n",
              "      <td>277851.0</td>\n",
              "    </tr>\n",
              "    <tr>\n",
              "      <th>2019-11-18 10:05:00</th>\n",
              "      <td>13.767621</td>\n",
              "      <td>6712445.0</td>\n",
              "      <td>13.780585</td>\n",
              "      <td>4756865.0</td>\n",
              "      <td>13.771784</td>\n",
              "      <td>331900.0</td>\n",
              "    </tr>\n",
              "    <tr>\n",
              "      <th>2019-11-18 10:06:00</th>\n",
              "      <td>13.756951</td>\n",
              "      <td>8007302.0</td>\n",
              "      <td>13.777118</td>\n",
              "      <td>3788308.0</td>\n",
              "      <td>13.768760</td>\n",
              "      <td>344219.0</td>\n",
              "    </tr>\n",
              "  </tbody>\n",
              "</table>\n",
              "</div>"
            ],
            "text/plain": [
              "                        md_bid    vlr_bid     md_ask    vlr_ask   md_trade  \\\n",
              "2019-11-18 10:02:00  13.732724  1858834.0  13.750432  5466938.0  13.737311   \n",
              "2019-11-18 10:03:00  13.752492  5342458.0  13.765032  5638749.0  13.762054   \n",
              "2019-11-18 10:04:00  13.749413  4434392.0  13.761956  5356745.0  13.755000   \n",
              "2019-11-18 10:05:00  13.767621  6712445.0  13.780585  4756865.0  13.771784   \n",
              "2019-11-18 10:06:00  13.756951  8007302.0  13.777118  3788308.0  13.768760   \n",
              "\n",
              "                     vlr_trade  \n",
              "2019-11-18 10:02:00   888804.0  \n",
              "2019-11-18 10:03:00   355061.0  \n",
              "2019-11-18 10:04:00   277851.0  \n",
              "2019-11-18 10:05:00   331900.0  \n",
              "2019-11-18 10:06:00   344219.0  "
            ]
          },
          "metadata": {
            "tags": []
          },
          "execution_count": 40
        }
      ]
    },
    {
      "cell_type": "code",
      "metadata": {
        "id": "DZ5ZFFuhNjR0",
        "colab_type": "code",
        "colab": {},
        "outputId": "191c5c6b-e3b5-43ed-f63e-bf26e8ef6a24"
      },
      "source": [
        "pdmerge.columns"
      ],
      "execution_count": 0,
      "outputs": [
        {
          "output_type": "execute_result",
          "data": {
            "text/plain": [
              "Index(['md_bid', 'vlr_bid', 'md_ask', 'vlr_ask', 'md_trade', 'vlr_trade'], dtype='object')"
            ]
          },
          "metadata": {
            "tags": []
          },
          "execution_count": 41
        }
      ]
    },
    {
      "cell_type": "code",
      "metadata": {
        "id": "JjUumMLXNjSC",
        "colab_type": "code",
        "colab": {},
        "outputId": "ac5a6bec-1847-4f7b-af45-8b32684a0926"
      },
      "source": [
        "pdmerge.index"
      ],
      "execution_count": 0,
      "outputs": [
        {
          "output_type": "execute_result",
          "data": {
            "text/plain": [
              "DatetimeIndex(['2019-11-18 06:08:00', '2019-11-18 09:45:00',\n",
              "               '2019-11-18 09:59:00', '2019-11-18 10:00:00',\n",
              "               '2019-11-18 10:01:00', '2019-11-18 10:02:00',\n",
              "               '2019-11-18 10:03:00', '2019-11-18 10:04:00',\n",
              "               '2019-11-18 10:05:00', '2019-11-18 10:06:00',\n",
              "               ...\n",
              "               '2020-05-15 17:50:00', '2020-05-15 17:51:00',\n",
              "               '2020-05-15 17:52:00', '2020-05-15 17:53:00',\n",
              "               '2020-05-15 17:54:00', '2020-05-15 17:55:00',\n",
              "               '2020-05-15 17:56:00', '2020-05-15 17:57:00',\n",
              "               '2020-05-15 17:58:00', '2020-05-15 17:59:00'],\n",
              "              dtype='datetime64[ns]', length=56229, freq=None)"
            ]
          },
          "metadata": {
            "tags": []
          },
          "execution_count": 13
        }
      ]
    },
    {
      "cell_type": "code",
      "metadata": {
        "id": "OffivJNMNjSI",
        "colab_type": "code",
        "colab": {}
      },
      "source": [
        "#pdmerge.index=pd.to_datetime(pdmerge.index)\n",
        "#pdmerge=pdmerge.sort_index()\n",
        "#pdmerge.head()"
      ],
      "execution_count": 0,
      "outputs": []
    },
    {
      "cell_type": "code",
      "metadata": {
        "id": "dVKKUEMSNjSO",
        "colab_type": "code",
        "colab": {},
        "outputId": "5eb74092-457f-4bbd-e807-c07d17d9cdc4"
      },
      "source": [
        "pdmerge.tail()"
      ],
      "execution_count": 0,
      "outputs": [
        {
          "output_type": "execute_result",
          "data": {
            "text/html": [
              "<div>\n",
              "<style scoped>\n",
              "    .dataframe tbody tr th:only-of-type {\n",
              "        vertical-align: middle;\n",
              "    }\n",
              "\n",
              "    .dataframe tbody tr th {\n",
              "        vertical-align: top;\n",
              "    }\n",
              "\n",
              "    .dataframe thead th {\n",
              "        text-align: right;\n",
              "    }\n",
              "</style>\n",
              "<table border=\"1\" class=\"dataframe\">\n",
              "  <thead>\n",
              "    <tr style=\"text-align: right;\">\n",
              "      <th></th>\n",
              "      <th>md_bid</th>\n",
              "      <th>vlr_bid</th>\n",
              "      <th>md_ask</th>\n",
              "      <th>vlr_ask</th>\n",
              "    </tr>\n",
              "  </thead>\n",
              "  <tbody>\n",
              "    <tr>\n",
              "      <th>2020-05-15 17:55:00</th>\n",
              "      <td>8.163825</td>\n",
              "      <td>698603.0</td>\n",
              "      <td>8.179981</td>\n",
              "      <td>3326144.0</td>\n",
              "    </tr>\n",
              "    <tr>\n",
              "      <th>2020-05-15 17:56:00</th>\n",
              "      <td>8.161891</td>\n",
              "      <td>427577.0</td>\n",
              "      <td>8.179985</td>\n",
              "      <td>977001.0</td>\n",
              "    </tr>\n",
              "    <tr>\n",
              "      <th>2020-05-15 17:57:00</th>\n",
              "      <td>8.162149</td>\n",
              "      <td>415584.0</td>\n",
              "      <td>8.179851</td>\n",
              "      <td>1786872.0</td>\n",
              "    </tr>\n",
              "    <tr>\n",
              "      <th>2020-05-15 17:58:00</th>\n",
              "      <td>8.162327</td>\n",
              "      <td>823440.0</td>\n",
              "      <td>8.179079</td>\n",
              "      <td>1146527.0</td>\n",
              "    </tr>\n",
              "    <tr>\n",
              "      <th>2020-05-15 17:59:00</th>\n",
              "      <td>8.169999</td>\n",
              "      <td>471989.0</td>\n",
              "      <td>8.180013</td>\n",
              "      <td>2707658.0</td>\n",
              "    </tr>\n",
              "  </tbody>\n",
              "</table>\n",
              "</div>"
            ],
            "text/plain": [
              "                       md_bid   vlr_bid    md_ask    vlr_ask\n",
              "2020-05-15 17:55:00  8.163825  698603.0  8.179981  3326144.0\n",
              "2020-05-15 17:56:00  8.161891  427577.0  8.179985   977001.0\n",
              "2020-05-15 17:57:00  8.162149  415584.0  8.179851  1786872.0\n",
              "2020-05-15 17:58:00  8.162327  823440.0  8.179079  1146527.0\n",
              "2020-05-15 17:59:00  8.169999  471989.0  8.180013  2707658.0"
            ]
          },
          "metadata": {
            "tags": []
          },
          "execution_count": 15
        }
      ]
    },
    {
      "cell_type": "code",
      "metadata": {
        "scrolled": true,
        "id": "eCa7t62ANjSV",
        "colab_type": "code",
        "colab": {},
        "outputId": "8e1b59cc-c4f4-44f4-872d-e38d85766b50"
      },
      "source": [
        "pdmerge.dropna().describe()"
      ],
      "execution_count": 0,
      "outputs": [
        {
          "output_type": "execute_result",
          "data": {
            "text/html": [
              "<div>\n",
              "<style scoped>\n",
              "    .dataframe tbody tr th:only-of-type {\n",
              "        vertical-align: middle;\n",
              "    }\n",
              "\n",
              "    .dataframe tbody tr th {\n",
              "        vertical-align: top;\n",
              "    }\n",
              "\n",
              "    .dataframe thead th {\n",
              "        text-align: right;\n",
              "    }\n",
              "</style>\n",
              "<table border=\"1\" class=\"dataframe\">\n",
              "  <thead>\n",
              "    <tr style=\"text-align: right;\">\n",
              "      <th></th>\n",
              "      <th>md_bid</th>\n",
              "      <th>vlr_bid</th>\n",
              "      <th>md_ask</th>\n",
              "      <th>vlr_ask</th>\n",
              "      <th>md_trade</th>\n",
              "      <th>vlr_trade</th>\n",
              "    </tr>\n",
              "  </thead>\n",
              "  <tbody>\n",
              "    <tr>\n",
              "      <th>count</th>\n",
              "      <td>52783.000000</td>\n",
              "      <td>5.278300e+04</td>\n",
              "      <td>52783.000000</td>\n",
              "      <td>5.278300e+04</td>\n",
              "      <td>52783.000000</td>\n",
              "      <td>5.278300e+04</td>\n",
              "    </tr>\n",
              "    <tr>\n",
              "      <th>mean</th>\n",
              "      <td>11.724357</td>\n",
              "      <td>3.923750e+07</td>\n",
              "      <td>11.734844</td>\n",
              "      <td>3.414740e+07</td>\n",
              "      <td>11.755474</td>\n",
              "      <td>6.888868e+05</td>\n",
              "    </tr>\n",
              "    <tr>\n",
              "      <th>std</th>\n",
              "      <td>2.222703</td>\n",
              "      <td>4.990016e+07</td>\n",
              "      <td>2.226073</td>\n",
              "      <td>3.425049e+07</td>\n",
              "      <td>2.167850</td>\n",
              "      <td>2.809982e+06</td>\n",
              "    </tr>\n",
              "    <tr>\n",
              "      <th>min</th>\n",
              "      <td>0.004347</td>\n",
              "      <td>1.280000e+03</td>\n",
              "      <td>0.000059</td>\n",
              "      <td>8.500000e+02</td>\n",
              "      <td>7.451111</td>\n",
              "      <td>2.691000e+03</td>\n",
              "    </tr>\n",
              "    <tr>\n",
              "      <th>25%</th>\n",
              "      <td>9.148850</td>\n",
              "      <td>1.597549e+07</td>\n",
              "      <td>9.159038</td>\n",
              "      <td>1.494406e+07</td>\n",
              "      <td>9.166616</td>\n",
              "      <td>1.767355e+05</td>\n",
              "    </tr>\n",
              "    <tr>\n",
              "      <th>50%</th>\n",
              "      <td>13.015061</td>\n",
              "      <td>2.748911e+07</td>\n",
              "      <td>13.027277</td>\n",
              "      <td>2.559192e+07</td>\n",
              "      <td>13.025833</td>\n",
              "      <td>3.547390e+05</td>\n",
              "    </tr>\n",
              "    <tr>\n",
              "      <th>75%</th>\n",
              "      <td>13.494640</td>\n",
              "      <td>4.658175e+07</td>\n",
              "      <td>13.506902</td>\n",
              "      <td>4.211471e+07</td>\n",
              "      <td>13.501378</td>\n",
              "      <td>6.795480e+05</td>\n",
              "    </tr>\n",
              "    <tr>\n",
              "      <th>max</th>\n",
              "      <td>14.370000</td>\n",
              "      <td>2.696236e+09</td>\n",
              "      <td>14.380000</td>\n",
              "      <td>9.984419e+08</td>\n",
              "      <td>14.375552</td>\n",
              "      <td>2.063458e+08</td>\n",
              "    </tr>\n",
              "  </tbody>\n",
              "</table>\n",
              "</div>"
            ],
            "text/plain": [
              "             md_bid       vlr_bid        md_ask       vlr_ask      md_trade  \\\n",
              "count  52783.000000  5.278300e+04  52783.000000  5.278300e+04  52783.000000   \n",
              "mean      11.724357  3.923750e+07     11.734844  3.414740e+07     11.755474   \n",
              "std        2.222703  4.990016e+07      2.226073  3.425049e+07      2.167850   \n",
              "min        0.004347  1.280000e+03      0.000059  8.500000e+02      7.451111   \n",
              "25%        9.148850  1.597549e+07      9.159038  1.494406e+07      9.166616   \n",
              "50%       13.015061  2.748911e+07     13.027277  2.559192e+07     13.025833   \n",
              "75%       13.494640  4.658175e+07     13.506902  4.211471e+07     13.501378   \n",
              "max       14.370000  2.696236e+09     14.380000  9.984419e+08     14.375552   \n",
              "\n",
              "          vlr_trade  \n",
              "count  5.278300e+04  \n",
              "mean   6.888868e+05  \n",
              "std    2.809982e+06  \n",
              "min    2.691000e+03  \n",
              "25%    1.767355e+05  \n",
              "50%    3.547390e+05  \n",
              "75%    6.795480e+05  \n",
              "max    2.063458e+08  "
            ]
          },
          "metadata": {
            "tags": []
          },
          "execution_count": 42
        }
      ]
    },
    {
      "cell_type": "code",
      "metadata": {
        "id": "n9BFaZ9yNjSa",
        "colab_type": "code",
        "colab": {},
        "outputId": "8ae430b4-5ba8-4ecf-9480-e654d2e9513f"
      },
      "source": [
        "pdmerge.md_bid.values.shape"
      ],
      "execution_count": 0,
      "outputs": [
        {
          "output_type": "execute_result",
          "data": {
            "text/plain": [
              "(52783,)"
            ]
          },
          "metadata": {
            "tags": []
          },
          "execution_count": 43
        }
      ]
    },
    {
      "cell_type": "code",
      "metadata": {
        "id": "Gq0XbAWgNjSg",
        "colab_type": "code",
        "colab": {},
        "outputId": "b6a91e48-9fca-44f5-9146-6f986448bd53"
      },
      "source": [
        "pdmerge.md_bid.values\n"
      ],
      "execution_count": 0,
      "outputs": [
        {
          "output_type": "execute_result",
          "data": {
            "text/plain": [
              "array([13.59972678, 14.4596915 ,  0.04373414, ...,  8.16214942,\n",
              "        8.16232666,  8.16999879])"
            ]
          },
          "metadata": {
            "tags": []
          },
          "execution_count": 18
        }
      ]
    },
    {
      "cell_type": "code",
      "metadata": {
        "id": "nHKKQwNJNjSm",
        "colab_type": "code",
        "colab": {}
      },
      "source": [
        "#reshape para normalizar\n",
        "#valor_total_itsa4=np.reshape(valor_total_itsa4,(-1,1))\n",
        "md_bid_reshaped=np.reshape(pdmerge.md_bid.values,(-1,1))\n",
        "md_ask_reshaped=np.reshape(pdmerge.md_ask.values,(-1,1))\n",
        "vlr_ask_reshaped=np.reshape(pdmerge.vlr_ask.values,(-1,1))\n",
        "vlr_bid_reshaped=np.reshape(pdmerge.vlr_bid.values,(-1,1))\n",
        "\n",
        "vlr_trade_reshaped=np.reshape(pdmerge.vlr_trade.values,(-1,1))\n",
        "md_trade_reshaped=np.reshape(pdmerge.md_trade.values,(-1,1))\n",
        "\n",
        "\n",
        "\n",
        "from sklearn.preprocessing import MinMaxScaler\n",
        "sc_valor = MinMaxScaler(feature_range = (0, 1))\n",
        "\n",
        "md_bid_reshaped_scaled = sc_valor.fit_transform(md_bid_reshaped)\n",
        "md_ask_reshaped_scaled = sc_valor.fit_transform(md_ask_reshaped)\n",
        "vlr_bid_reshaped_scaled = sc_valor.fit_transform(vlr_bid_reshaped)\n",
        "vlr_ask_reshaped_scaled = sc_valor.fit_transform(vlr_ask_reshaped)\n",
        "\n",
        "vlr_trade_reshaped_scaled = sc_valor.fit_transform(vlr_trade_reshaped)\n",
        "md_trade_reshaped_scaled = sc_valor.fit_transform(md_trade_reshaped)\n",
        "\n",
        "\n",
        "#valor_total_itsa4_scaled = sc_valor.fit_transform(valor_total_itsa4) \n",
        "#print(valor_total_itsa4_scaled.shape)"
      ],
      "execution_count": 0,
      "outputs": []
    },
    {
      "cell_type": "code",
      "metadata": {
        "collapsed": true,
        "id": "aEE6BL3RNjSt",
        "colab_type": "code",
        "colab": {},
        "outputId": "7821642c-b788-4342-b155-1dcf061b17c3"
      },
      "source": [
        "print(md_bid_reshaped_scaled[0:5])\n",
        "print(md_ask_reshaped_scaled[0:5])\n",
        "print(vlr_bid_reshaped_scaled[0:5])\n",
        "print(vlr_ask_reshaped_scaled[0:5])"
      ],
      "execution_count": 0,
      "outputs": [
        {
          "output_type": "stream",
          "text": [
            "[[0.52306641]\n",
            " [0.55614198]\n",
            " [0.00168208]\n",
            " [0.05337457]\n",
            " [0.00751493]]\n",
            "[[0.95081881]\n",
            " [0.94575008]\n",
            " [0.95086711]\n",
            " [0.95233276]\n",
            " [0.95618913]]\n",
            "[[7.38436975e-06]\n",
            " [3.68539763e-05]\n",
            " [4.40985215e-07]\n",
            " [4.52519815e-06]\n",
            " [1.23505531e-06]]\n",
            "[[5.23115055e-06]\n",
            " [1.20070079e-04]\n",
            " [1.34209109e-06]\n",
            " [3.77187689e-06]\n",
            " [7.16115766e-06]]\n"
          ],
          "name": "stdout"
        }
      ]
    },
    {
      "cell_type": "code",
      "metadata": {
        "id": "HKK_nvF-NjSz",
        "colab_type": "code",
        "colab": {},
        "outputId": "f06e9b77-6650-4452-cf3c-ac0f54b003ae"
      },
      "source": [
        "print(md_bid_reshaped_scaled.size)\n",
        "print(md_ask_reshaped_scaled.size)\n",
        "print(vlr_bid_reshaped_scaled.size)\n",
        "print(vlr_ask_reshaped_scaled.size)"
      ],
      "execution_count": 0,
      "outputs": [
        {
          "output_type": "stream",
          "text": [
            "52783\n",
            "52783\n",
            "52783\n",
            "52783\n"
          ],
          "name": "stdout"
        }
      ]
    },
    {
      "cell_type": "code",
      "metadata": {
        "id": "VKfF71IFNjS5",
        "colab_type": "code",
        "colab": {}
      },
      "source": [
        "window=10\n",
        "TrainSize=vlr_ask_reshaped_scaled.size\n",
        "X_train = []\n",
        "y_train = []\n",
        "for i in range(window, TrainSize):\n",
        "    X_train.append(np.array(list(zip(vlr_trade_reshaped_scaled[i-window:i,0],md_trade_reshaped_scaled[i-window:i,0],md_bid_reshaped_scaled[i-window:i,0],md_ask_reshaped_scaled[i-window:i,0],vlr_bid_reshaped_scaled[i-window:i,0],vlr_ask_reshaped_scaled[i-window:i,0]))).flatten())\n",
        "    y_train.append(md_trade_reshaped_scaled[i,0]) #esta errado, trocar pelo trade\n",
        "\n",
        "X_train, y_train = np.array(X_train), np.array(y_train)"
      ],
      "execution_count": 0,
      "outputs": []
    },
    {
      "cell_type": "code",
      "metadata": {
        "id": "xjx2hECLNjS-",
        "colab_type": "code",
        "colab": {},
        "outputId": "dcd990db-2b40-4660-a4d7-24a72a3eb1ff"
      },
      "source": [
        "print(X_train.shape)"
      ],
      "execution_count": 0,
      "outputs": [
        {
          "output_type": "stream",
          "text": [
            "(52773, 60)\n"
          ],
          "name": "stdout"
        }
      ]
    },
    {
      "cell_type": "code",
      "metadata": {
        "id": "AKn65_qXNjTE",
        "colab_type": "code",
        "colab": {},
        "outputId": "6d986e0f-7b14-46ec-b6cd-cb58e82de8b4"
      },
      "source": [
        "#Reshaping para usar na rede neural\n",
        "print(X_train.shape)\n",
        "print(y_train.shape)\n",
        "X_train = np.reshape(X_train, (X_train.shape[0], window,6))\n",
        "print(X_train.shape)"
      ],
      "execution_count": 0,
      "outputs": [
        {
          "output_type": "stream",
          "text": [
            "(52773, 10, 6)\n",
            "(52773,)\n",
            "(52773, 10, 6)\n"
          ],
          "name": "stdout"
        }
      ]
    },
    {
      "cell_type": "code",
      "metadata": {
        "id": "mKtEqqAiNjTJ",
        "colab_type": "code",
        "colab": {}
      },
      "source": [
        "from keras.models import Sequential\n",
        "from keras.layers import Dense\n",
        "from keras.layers import LSTM\n",
        "from keras.layers import Dropout"
      ],
      "execution_count": 0,
      "outputs": []
    },
    {
      "cell_type": "code",
      "metadata": {
        "id": "dOglkDBGNjTR",
        "colab_type": "code",
        "colab": {},
        "outputId": "b1a653ef-ce6a-4054-bca3-9bea9e7c4d51"
      },
      "source": [
        "### Construção da Rede completa\n",
        "# Initicializar a RNN\n",
        "regressor = Sequential()\n",
        " \n",
        "# Adicionar a primeira camada LSTM e Dropout \n",
        "#regressor.add(LSTM(units = 100, return_sequences = True, input_shape = (X_train.shape[2], 1)))\n",
        "regressor.add(LSTM(units = 100, return_sequences = True, input_shape = (window,6)))\n",
        "regressor.add(Dropout(0.2))\n",
        " \n",
        "# Adicionar a segunda camada LSTM e Dropout\n",
        "regressor.add(LSTM(units = 80, return_sequences = True))\n",
        "regressor.add(Dropout(0.2))\n",
        "\n",
        "# Adicionar a segunda camada LSTM e Dropout\n",
        "regressor.add(LSTM(units = 60, return_sequences = True))\n",
        "regressor.add(Dropout(0.2))\n",
        "\n",
        "\n",
        "# Adicionar a terceira camada LSTM e Dropout\n",
        "regressor.add(LSTM(units = 50))\n",
        "regressor.add(Dropout(0.2))\n",
        " \n",
        "# camada de saída\n",
        "regressor.add(Dense(units = 1))\n",
        " \n",
        "# Compilar a rede\n",
        "regressor.compile(optimizer = 'adam', loss = 'mean_squared_error')\n",
        "\n",
        "# Visualizar a rede\n",
        "regressor.summary()"
      ],
      "execution_count": 0,
      "outputs": [
        {
          "output_type": "stream",
          "text": [
            "Model: \"sequential_3\"\n",
            "_________________________________________________________________\n",
            "Layer (type)                 Output Shape              Param #   \n",
            "=================================================================\n",
            "lstm_9 (LSTM)                (None, 10, 100)           42800     \n",
            "_________________________________________________________________\n",
            "dropout_9 (Dropout)          (None, 10, 100)           0         \n",
            "_________________________________________________________________\n",
            "lstm_10 (LSTM)               (None, 10, 80)            57920     \n",
            "_________________________________________________________________\n",
            "dropout_10 (Dropout)         (None, 10, 80)            0         \n",
            "_________________________________________________________________\n",
            "lstm_11 (LSTM)               (None, 10, 60)            33840     \n",
            "_________________________________________________________________\n",
            "dropout_11 (Dropout)         (None, 10, 60)            0         \n",
            "_________________________________________________________________\n",
            "lstm_12 (LSTM)               (None, 50)                22200     \n",
            "_________________________________________________________________\n",
            "dropout_12 (Dropout)         (None, 50)                0         \n",
            "_________________________________________________________________\n",
            "dense_3 (Dense)              (None, 1)                 51        \n",
            "=================================================================\n",
            "Total params: 156,811\n",
            "Trainable params: 156,811\n",
            "Non-trainable params: 0\n",
            "_________________________________________________________________\n"
          ],
          "name": "stdout"
        }
      ]
    },
    {
      "cell_type": "code",
      "metadata": {
        "id": "9Mw-e6gvNjTW",
        "colab_type": "code",
        "colab": {},
        "outputId": "5e3a343e-324a-48be-e60f-da87d07deec1"
      },
      "source": [
        "#Treinamento\n",
        "regressor.fit(X_train, y_train, epochs = 5, batch_size = 32)"
      ],
      "execution_count": 0,
      "outputs": [
        {
          "output_type": "stream",
          "text": [
            "Epoch 1/5\n",
            "52773/52773 [==============================] - 72s 1ms/step - loss: 0.0051\n",
            "Epoch 2/5\n",
            "52773/52773 [==============================] - 66s 1ms/step - loss: 0.0018\n",
            "Epoch 3/5\n",
            "41248/52773 [======================>.......] - ETA: 13s - loss: 0.0012"
          ],
          "name": "stdout"
        },
        {
          "output_type": "error",
          "ename": "KeyboardInterrupt",
          "evalue": "",
          "traceback": [
            "\u001b[1;31m---------------------------------------------------------------------------\u001b[0m",
            "\u001b[1;31mKeyboardInterrupt\u001b[0m                         Traceback (most recent call last)",
            "\u001b[1;32m<ipython-input-54-dd838aa266c5>\u001b[0m in \u001b[0;36m<module>\u001b[1;34m\u001b[0m\n\u001b[0;32m      1\u001b[0m \u001b[1;31m#Treinamento\u001b[0m\u001b[1;33m\u001b[0m\u001b[1;33m\u001b[0m\u001b[1;33m\u001b[0m\u001b[0m\n\u001b[1;32m----> 2\u001b[1;33m \u001b[0mregressor\u001b[0m\u001b[1;33m.\u001b[0m\u001b[0mfit\u001b[0m\u001b[1;33m(\u001b[0m\u001b[0mX_train\u001b[0m\u001b[1;33m,\u001b[0m \u001b[0my_train\u001b[0m\u001b[1;33m,\u001b[0m \u001b[0mepochs\u001b[0m \u001b[1;33m=\u001b[0m \u001b[1;36m5\u001b[0m\u001b[1;33m,\u001b[0m \u001b[0mbatch_size\u001b[0m \u001b[1;33m=\u001b[0m \u001b[1;36m32\u001b[0m\u001b[1;33m)\u001b[0m\u001b[1;33m\u001b[0m\u001b[1;33m\u001b[0m\u001b[0m\n\u001b[0m",
            "\u001b[1;32mC:\\ProgramData\\Anaconda3\\lib\\site-packages\\keras\\engine\\training.py\u001b[0m in \u001b[0;36mfit\u001b[1;34m(self, x, y, batch_size, epochs, verbose, callbacks, validation_split, validation_data, shuffle, class_weight, sample_weight, initial_epoch, steps_per_epoch, validation_steps, validation_freq, max_queue_size, workers, use_multiprocessing, **kwargs)\u001b[0m\n\u001b[0;32m   1237\u001b[0m                                         \u001b[0msteps_per_epoch\u001b[0m\u001b[1;33m=\u001b[0m\u001b[0msteps_per_epoch\u001b[0m\u001b[1;33m,\u001b[0m\u001b[1;33m\u001b[0m\u001b[1;33m\u001b[0m\u001b[0m\n\u001b[0;32m   1238\u001b[0m                                         \u001b[0mvalidation_steps\u001b[0m\u001b[1;33m=\u001b[0m\u001b[0mvalidation_steps\u001b[0m\u001b[1;33m,\u001b[0m\u001b[1;33m\u001b[0m\u001b[1;33m\u001b[0m\u001b[0m\n\u001b[1;32m-> 1239\u001b[1;33m                                         validation_freq=validation_freq)\n\u001b[0m\u001b[0;32m   1240\u001b[0m \u001b[1;33m\u001b[0m\u001b[0m\n\u001b[0;32m   1241\u001b[0m     def evaluate(self,\n",
            "\u001b[1;32mC:\\ProgramData\\Anaconda3\\lib\\site-packages\\keras\\engine\\training_arrays.py\u001b[0m in \u001b[0;36mfit_loop\u001b[1;34m(model, fit_function, fit_inputs, out_labels, batch_size, epochs, verbose, callbacks, val_function, val_inputs, shuffle, initial_epoch, steps_per_epoch, validation_steps, validation_freq)\u001b[0m\n\u001b[0;32m    194\u001b[0m                     \u001b[0mins_batch\u001b[0m\u001b[1;33m[\u001b[0m\u001b[0mi\u001b[0m\u001b[1;33m]\u001b[0m \u001b[1;33m=\u001b[0m \u001b[0mins_batch\u001b[0m\u001b[1;33m[\u001b[0m\u001b[0mi\u001b[0m\u001b[1;33m]\u001b[0m\u001b[1;33m.\u001b[0m\u001b[0mtoarray\u001b[0m\u001b[1;33m(\u001b[0m\u001b[1;33m)\u001b[0m\u001b[1;33m\u001b[0m\u001b[1;33m\u001b[0m\u001b[0m\n\u001b[0;32m    195\u001b[0m \u001b[1;33m\u001b[0m\u001b[0m\n\u001b[1;32m--> 196\u001b[1;33m                 \u001b[0mouts\u001b[0m \u001b[1;33m=\u001b[0m \u001b[0mfit_function\u001b[0m\u001b[1;33m(\u001b[0m\u001b[0mins_batch\u001b[0m\u001b[1;33m)\u001b[0m\u001b[1;33m\u001b[0m\u001b[1;33m\u001b[0m\u001b[0m\n\u001b[0m\u001b[0;32m    197\u001b[0m                 \u001b[0mouts\u001b[0m \u001b[1;33m=\u001b[0m \u001b[0mto_list\u001b[0m\u001b[1;33m(\u001b[0m\u001b[0mouts\u001b[0m\u001b[1;33m)\u001b[0m\u001b[1;33m\u001b[0m\u001b[1;33m\u001b[0m\u001b[0m\n\u001b[0;32m    198\u001b[0m                 \u001b[1;32mfor\u001b[0m \u001b[0ml\u001b[0m\u001b[1;33m,\u001b[0m \u001b[0mo\u001b[0m \u001b[1;32min\u001b[0m \u001b[0mzip\u001b[0m\u001b[1;33m(\u001b[0m\u001b[0mout_labels\u001b[0m\u001b[1;33m,\u001b[0m \u001b[0mouts\u001b[0m\u001b[1;33m)\u001b[0m\u001b[1;33m:\u001b[0m\u001b[1;33m\u001b[0m\u001b[1;33m\u001b[0m\u001b[0m\n",
            "\u001b[1;32mC:\\ProgramData\\Anaconda3\\lib\\site-packages\\tensorflow\\python\\keras\\backend.py\u001b[0m in \u001b[0;36m__call__\u001b[1;34m(self, inputs)\u001b[0m\n\u001b[0;32m   3290\u001b[0m \u001b[1;33m\u001b[0m\u001b[0m\n\u001b[0;32m   3291\u001b[0m     fetched = self._callable_fn(*array_vals,\n\u001b[1;32m-> 3292\u001b[1;33m                                 run_metadata=self.run_metadata)\n\u001b[0m\u001b[0;32m   3293\u001b[0m     \u001b[0mself\u001b[0m\u001b[1;33m.\u001b[0m\u001b[0m_call_fetch_callbacks\u001b[0m\u001b[1;33m(\u001b[0m\u001b[0mfetched\u001b[0m\u001b[1;33m[\u001b[0m\u001b[1;33m-\u001b[0m\u001b[0mlen\u001b[0m\u001b[1;33m(\u001b[0m\u001b[0mself\u001b[0m\u001b[1;33m.\u001b[0m\u001b[0m_fetches\u001b[0m\u001b[1;33m)\u001b[0m\u001b[1;33m:\u001b[0m\u001b[1;33m]\u001b[0m\u001b[1;33m)\u001b[0m\u001b[1;33m\u001b[0m\u001b[1;33m\u001b[0m\u001b[0m\n\u001b[0;32m   3294\u001b[0m     output_structure = nest.pack_sequence_as(\n",
            "\u001b[1;32mC:\\ProgramData\\Anaconda3\\lib\\site-packages\\tensorflow\\python\\client\\session.py\u001b[0m in \u001b[0;36m__call__\u001b[1;34m(self, *args, **kwargs)\u001b[0m\n\u001b[0;32m   1456\u001b[0m         ret = tf_session.TF_SessionRunCallable(self._session._session,\n\u001b[0;32m   1457\u001b[0m                                                \u001b[0mself\u001b[0m\u001b[1;33m.\u001b[0m\u001b[0m_handle\u001b[0m\u001b[1;33m,\u001b[0m \u001b[0margs\u001b[0m\u001b[1;33m,\u001b[0m\u001b[1;33m\u001b[0m\u001b[1;33m\u001b[0m\u001b[0m\n\u001b[1;32m-> 1458\u001b[1;33m                                                run_metadata_ptr)\n\u001b[0m\u001b[0;32m   1459\u001b[0m         \u001b[1;32mif\u001b[0m \u001b[0mrun_metadata\u001b[0m\u001b[1;33m:\u001b[0m\u001b[1;33m\u001b[0m\u001b[1;33m\u001b[0m\u001b[0m\n\u001b[0;32m   1460\u001b[0m           \u001b[0mproto_data\u001b[0m \u001b[1;33m=\u001b[0m \u001b[0mtf_session\u001b[0m\u001b[1;33m.\u001b[0m\u001b[0mTF_GetBuffer\u001b[0m\u001b[1;33m(\u001b[0m\u001b[0mrun_metadata_ptr\u001b[0m\u001b[1;33m)\u001b[0m\u001b[1;33m\u001b[0m\u001b[1;33m\u001b[0m\u001b[0m\n",
            "\u001b[1;31mKeyboardInterrupt\u001b[0m: "
          ]
        }
      ]
    },
    {
      "cell_type": "code",
      "metadata": {
        "id": "-f4dlQKFNjTb",
        "colab_type": "code",
        "colab": {}
      },
      "source": [
        ""
      ],
      "execution_count": 0,
      "outputs": []
    },
    {
      "cell_type": "code",
      "metadata": {
        "id": "7Yyz7PCqNjTg",
        "colab_type": "code",
        "colab": {}
      },
      "source": [
        "#np.array(list(zip(a,b))).flatten()"
      ],
      "execution_count": 0,
      "outputs": []
    },
    {
      "cell_type": "code",
      "metadata": {
        "id": "bqfVQKI0NjTl",
        "colab_type": "code",
        "colab": {}
      },
      "source": [
        ""
      ],
      "execution_count": 0,
      "outputs": []
    },
    {
      "cell_type": "code",
      "metadata": {
        "scrolled": true,
        "id": "rjyqdB7vNjTq",
        "colab_type": "code",
        "colab": {}
      },
      "source": [
        "#\n",
        "import seaborn as sns\n",
        "plt.subplots(figsize=(10,5))\n",
        "plt.subplot(211)\n",
        "sns.distplot(pdmerge['md_bid'].dropna(), bins=50, color='purple')\n",
        "plt.subplot(212)\n",
        "sns.distplot(pdmerge['md_ask'].dropna(), bins=50, color='blue')\n",
        "plt.show();"
      ],
      "execution_count": 0,
      "outputs": []
    },
    {
      "cell_type": "code",
      "metadata": {
        "id": "KKRtw0m2NjTy",
        "colab_type": "code",
        "colab": {}
      },
      "source": [
        "plt.subplots(figsize=(10,5))\n",
        "plt.subplot(211)\n",
        "sns.distplot(pdmerge['vlr_bid'].dropna(), bins=50, color='purple')\n",
        "plt.subplot(212)\n",
        "sns.distplot(pdmerge['vlr_ask'].dropna(), bins=50, color='blue')\n",
        "plt.show();"
      ],
      "execution_count": 0,
      "outputs": []
    },
    {
      "cell_type": "code",
      "metadata": {
        "id": "SvOeSr9pNjT3",
        "colab_type": "code",
        "colab": {}
      },
      "source": [
        "import matplotlib as mpl\n",
        "import matplotlib.pyplot as plt\n",
        "\n",
        "plt.style.use('ggplot')\n",
        "import pandas as pd\n",
        "import numpy as np\n",
        "from datetime imporfigsize=(15,8)t datetime\n",
        "\n",
        "fig, ax = plt.subplots(nrows=2, sharex=True, figsize=(15,8))\n",
        "\n",
        "ax[0].plot(pdmerge.index[400:570], pdmerge.md_bid[400:570])\n",
        "ax[1].bar(pdmerge.index[400:570], pdmerge.vlr_bid[400:570], width=1/(5*len(pdmerge.index)))\n",
        "\n",
        "xfmt = mpl.dates.DateFormatter('%H:%M')\n",
        "ax[1].xaxis.set_major_locator(mpl.dates.HourLocator(interval=3))\n",
        "ax[1].xaxis.set_major_formatter(xfmt)\n",
        "\n",
        "ax[1].xaxis.set_minor_locator(mpl.dates.HourLocator(interval=1))\n",
        "ax[1].xaxis.set_minor_formatter(xfmt)\n",
        "\n",
        "ax[1].get_xaxis().set_tick_params(which='major', pad=25)\n",
        "\n",
        "fig.autofmt_xdate()\n",
        "plt.show();\n",
        "\n"
      ],
      "execution_count": 0,
      "outputs": []
    },
    {
      "cell_type": "code",
      "metadata": {
        "id": "aaCSIoksNjT8",
        "colab_type": "code",
        "colab": {}
      },
      "source": [
        "import pandas as pd\n",
        "import matplotlib.pyplot as plt\n",
        "import seaborn as sns\n",
        "import pandas_datareader.data as web\n",
        "from datetime import datetime\n",
        "%matplotlib inline"
      ],
      "execution_count": 0,
      "outputs": []
    },
    {
      "cell_type": "code",
      "metadata": {
        "id": "DpsAJN6tNjUD",
        "colab_type": "code",
        "colab": {}
      },
      "source": [
        "end = datetime.now()\n",
        "start = datetime(end.year-2, end.month, end.day)\n",
        " \n",
        "CMT = web.DataReader(\"ITSA4.SA\", 'yahoo', start, end)\n",
        "CMT.head(2)"
      ],
      "execution_count": 0,
      "outputs": []
    },
    {
      "cell_type": "code",
      "metadata": {
        "id": "casKkNIFNjUU",
        "colab_type": "code",
        "colab": {}
      },
      "source": [
        "CMT['Adj Close'].plot(legend=True, figsize=(10, 5), \\\n",
        "title='CapitaMall Trust', \\\n",
        "label='Adjusted Closing Price')"
      ],
      "execution_count": 0,
      "outputs": []
    },
    {
      "cell_type": "code",
      "metadata": {
        "id": "zfuVeQzlNjUZ",
        "colab_type": "code",
        "colab": {}
      },
      "source": [
        "plt.figure(figsize=(10,5))\n",
        "top = plt.subplot2grid((4,4), (0, 0), rowspan=3, colspan=4)\n",
        "bottom = plt.subplot2grid((4,4), (3,0), rowspan=1, colspan=4)\n",
        "top.plot(CMT.index, CMT['Adj Close']) #CMT.index gives the dates\n",
        "bottom.bar(CMT.index, CMT['Volume']) \n",
        " \n",
        "# set the labels\n",
        "top.axes.get_xaxis().set_visible(False)\n",
        "top.set_title('CapitalMall Trust')\n",
        "top.set_ylabel('Adj Closing Price')\n",
        "bottom.set_ylabel('Volume')"
      ],
      "execution_count": 0,
      "outputs": []
    },
    {
      "cell_type": "code",
      "metadata": {
        "scrolled": true,
        "id": "_8SjpHlZNjUf",
        "colab_type": "code",
        "colab": {}
      },
      "source": [
        "plt.figure(figsize=(10,5))\n",
        "sns.distplot(CMT['Adj Close'].dropna(), bins=50, color='purple')\n"
      ],
      "execution_count": 0,
      "outputs": []
    },
    {
      "cell_type": "code",
      "metadata": {
        "id": "J-X5dW9eNjUm",
        "colab_type": "code",
        "colab": {}
      },
      "source": [
        "sns.distplot(pdmerge['md_bid'].dropna(), bins=50, color='purple')"
      ],
      "execution_count": 0,
      "outputs": []
    },
    {
      "cell_type": "code",
      "metadata": {
        "scrolled": true,
        "id": "ks6iw2-sNjUs",
        "colab_type": "code",
        "colab": {}
      },
      "source": [
        "# simple moving averages\n",
        "sma10 = CMT['Close'].rolling(10).mean() #10 days\n",
        "sma20 = CMT['Close'].rolling(20).mean() #20 days\n",
        "sma50 = CMT['Close'].rolling(50).mean() #50 days\n",
        " \n",
        "CMTsma = pd.DataFrame({'CMT': CMT['Close'], 'SMA 10': sma10, 'SMA 20': sma20, 'SMA 50': sma50})\n",
        "CMTsma.plot(figsize=(10,5), legend=True, title='CapitaMall Trust')\n",
        " \n",
        "# add vertical lines with annotations\n",
        "plt.axvline(x = '2015-11-3', color = \"black\", lw=0.5)\n",
        "plt.text('2015-10-23', 2.25, 'SMA 10-20',rotation=90)\n",
        "plt.axvline(x = '2015-11-20', color = \"black\", lw=0.5)\n",
        "plt.text('2015-11-24', 2.25, 'SMA 10-50',rotation=90)"
      ],
      "execution_count": 0,
      "outputs": []
    },
    {
      "cell_type": "code",
      "metadata": {
        "id": "jOpmZ9N2NjU1",
        "colab_type": "code",
        "colab": {}
      },
      "source": [
        ""
      ],
      "execution_count": 0,
      "outputs": []
    },
    {
      "cell_type": "code",
      "metadata": {
        "id": "m3xAeI7WNjU9",
        "colab_type": "code",
        "colab": {}
      },
      "source": [
        ""
      ],
      "execution_count": 0,
      "outputs": []
    },
    {
      "cell_type": "code",
      "metadata": {
        "id": "N1NTZS4QNjVE",
        "colab_type": "code",
        "colab": {}
      },
      "source": [
        "dfask.size"
      ],
      "execution_count": 0,
      "outputs": []
    },
    {
      "cell_type": "code",
      "metadata": {
        "id": "XsR89nYtNjVK",
        "colab_type": "code",
        "colab": {}
      },
      "source": [
        "print(data_ask_itsa4.size)\n",
        "print(data_bid_itsa4.size)"
      ],
      "execution_count": 0,
      "outputs": []
    },
    {
      "cell_type": "code",
      "metadata": {
        "id": "mIzSyPOUNjVQ",
        "colab_type": "code",
        "colab": {}
      },
      "source": [
        "type(data_ask_itsa4[0])"
      ],
      "execution_count": 0,
      "outputs": []
    },
    {
      "cell_type": "code",
      "metadata": {
        "id": "FsSAkeZhNjVU",
        "colab_type": "code",
        "colab": {}
      },
      "source": [
        "data_ask_itsa4[0]"
      ],
      "execution_count": 0,
      "outputs": []
    },
    {
      "cell_type": "code",
      "metadata": {
        "id": "UrdKK2LjNjVe",
        "colab_type": "code",
        "colab": {}
      },
      "source": [
        "#from datetime import datetime\n",
        "#datetime_str = data_ask_itsa4[0]\n",
        "\n",
        "#datetime_object = datetime.strptime(datetime_str, '%d/%m/%Y %H:%M')\n",
        "\n",
        "#print(type(datetime_object))\n",
        "#print(datetime_object)  # printed in default format"
      ],
      "execution_count": 0,
      "outputs": []
    },
    {
      "cell_type": "code",
      "metadata": {
        "id": "eN1si9GTNjVr",
        "colab_type": "code",
        "colab": {}
      },
      "source": [
        "#date_index=[]\n",
        "#for i in range(data_ask_itsa4.size):\n",
        "    \n",
        "#    datetime_str = data_ask_itsa4[i]\n",
        "\n",
        "#    datetime_object = datetime.strptime(datetime_str, '%d/%m/%Y %H:%M')\n",
        "#    date_index.append(datetime_object)\n",
        "\n",
        "  #  print(type(datetime_object))\n",
        "  #  print(datetime_object)  # printed in default format\n"
      ],
      "execution_count": 0,
      "outputs": []
    },
    {
      "cell_type": "code",
      "metadata": {
        "id": "N_8eoID-NjVw",
        "colab_type": "code",
        "colab": {}
      },
      "source": [
        "#for j in range(data_bid_itsa4.size):\n",
        "    \n",
        "#    datetime_str = data_bid_itsa4[j]\n",
        "\n",
        "#    datetime_object = datetime.strptime(datetime_str, '%d/%m/%Y %H:%M')\n",
        "#    date_index.append(datetime_object)\n",
        "    "
      ],
      "execution_count": 0,
      "outputs": []
    },
    {
      "cell_type": "code",
      "metadata": {
        "id": "Cach9SOlNjV5",
        "colab_type": "code",
        "colab": {}
      },
      "source": [
        "#a=sorted(date_index)\n",
        "#a=set(a)\n",
        "#a=sorted(a)\n",
        "#date_index=np.array(a)\n",
        "#t=pd.DataFrame(index=date_index)\n",
        "#l=[t,dfask]\n",
        "#pd.concat(l,axis=1).reindex(t.index)"
      ],
      "execution_count": 0,
      "outputs": []
    },
    {
      "cell_type": "code",
      "metadata": {
        "id": "5T5Fnc70NjWB",
        "colab_type": "code",
        "colab": {}
      },
      "source": [
        ""
      ],
      "execution_count": 0,
      "outputs": []
    },
    {
      "cell_type": "code",
      "metadata": {
        "id": "CONGw4sCNjWL",
        "colab_type": "code",
        "colab": {}
      },
      "source": [
        ""
      ],
      "execution_count": 0,
      "outputs": []
    },
    {
      "cell_type": "code",
      "metadata": {
        "id": "FQusK8rBNjWS",
        "colab_type": "code",
        "colab": {}
      },
      "source": [
        ""
      ],
      "execution_count": 0,
      "outputs": []
    },
    {
      "cell_type": "code",
      "metadata": {
        "id": "Pv_t8N6nNjWY",
        "colab_type": "code",
        "colab": {}
      },
      "source": [
        ""
      ],
      "execution_count": 0,
      "outputs": []
    },
    {
      "cell_type": "code",
      "metadata": {
        "id": "fMZcfKGqNjWf",
        "colab_type": "code",
        "colab": {}
      },
      "source": [
        ""
      ],
      "execution_count": 0,
      "outputs": []
    }
  ]
}